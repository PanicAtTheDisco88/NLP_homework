{
 "cells": [
  {
   "cell_type": "markdown",
   "id": "bf28957a-ad76-4f93-a423-0cc50d3bfa58",
   "metadata": {},
   "source": [
    "# Unit 12 - Tales from the Crypto\n",
    "\n",
    "---\n"
   ]
  },
  {
   "cell_type": "markdown",
   "id": "a8b6e24b-e78b-46d2-aac1-4b88d2532c54",
   "metadata": {},
   "source": [
    "## 1. Sentiment Analysis\n",
    "\n",
    "Use the [newsapi](https://newsapi.org/) to pull the latest news articles for Bitcoin and Ethereum and create a DataFrame of sentiment scores for each coin.\n",
    "\n",
    "Use descriptive statistics to answer the following questions:\n",
    "1. Which coin had the highest mean positive score?\n",
    "2. Which coin had the highest negative score?\n",
    "3. Which coin had the highest positive score?"
   ]
  },
  {
   "cell_type": "code",
   "execution_count": 1,
   "id": "50b7d285-baba-4aa1-bc11-75b00ec09278",
   "metadata": {},
   "outputs": [
    {
     "name": "stderr",
     "output_type": "stream",
     "text": [
      "[nltk_data] Downloading package vader_lexicon to\n",
      "[nltk_data]     C:\\Users\\rhnil\\AppData\\Roaming\\nltk_data...\n",
      "[nltk_data]   Package vader_lexicon is already up-to-date!\n"
     ]
    }
   ],
   "source": [
    "# Initial imports\n",
    "import os\n",
    "import pandas as pd\n",
    "from dotenv import load_dotenv\n",
    "from newsapi import NewsApiClient\n",
    "import nltk as nltk\n",
    "nltk.download('vader_lexicon')\n",
    "from nltk.sentiment.vader import SentimentIntensityAnalyzer\n",
    "analyzer = SentimentIntensityAnalyzer()\n",
    "\n",
    "%matplotlib inline"
   ]
  },
  {
   "cell_type": "code",
   "execution_count": 3,
   "id": "486f021a-9a30-457b-8e43-2fea3cc1d284",
   "metadata": {},
   "outputs": [
    {
     "name": "stdout",
     "output_type": "stream",
     "text": [
      "7ee346c7532f454493b22d776336e55f\n"
     ]
    }
   ],
   "source": [
    "# Read your api key environment variable\n",
    "load_dotenv(\"../RN.env\")\n",
    "key = os.getenv(\"NEWS_API_KEY\")\n",
    "print(key)\n"
   ]
  },
  {
   "cell_type": "code",
   "execution_count": 4,
   "id": "74fdea2e-9e12-4b56-a24d-f1c32b9c7ee1",
   "metadata": {},
   "outputs": [],
   "source": [
    "# Create a newsapi client\n",
    "news_api = NewsApiClient(api_key = key)"
   ]
  },
  {
   "cell_type": "code",
   "execution_count": 5,
   "id": "7296536d-4fc0-4a3d-9588-121a77754b96",
   "metadata": {},
   "outputs": [
    {
     "data": {
      "text/plain": [
       "{'source': {'id': 'engadget', 'name': 'Engadget'},\n",
       " 'author': 'https://www.engadget.com/about/editors/richard-lawler',\n",
       " 'title': \"Tesla 'suspends' Bitcoin car purchases citing environmental impact\",\n",
       " 'description': \"You can't buy a Tesla with Bitcoin anymore..\",\n",
       " 'url': 'https://www.engadget.com/elon-musk-bitcoin-221708146.html',\n",
       " 'urlToImage': 'https://s.yimg.com/os/creatr-uploaded-images/2021-05/a0f90c30-b36f-11eb-aff6-04fb28cf2f4b',\n",
       " 'publishedAt': '2021-05-12T22:17:08Z',\n",
       " 'content': 'Just weeks after Tesla started accepting Bitcoin as currency for cars, Elon Musk revealed in a tweet that it will \"suspend\" the effort. According to the release (Tesla does not appear to have a funct… [+768 chars]'}"
      ]
     },
     "execution_count": 5,
     "metadata": {},
     "output_type": "execute_result"
    }
   ],
   "source": [
    "# Fetch the Bitcoin news articles\n",
    "btc_news = news_api.get_everything(\n",
    "            q = 'bitcoin OR Bitcoin',\n",
    "            language='en',\n",
    "            sort_by= 'relevancy')\n",
    "\n",
    "btc_news[\"articles\"][0]"
   ]
  },
  {
   "cell_type": "code",
   "execution_count": 6,
   "id": "9bb354ca-40cc-4c49-bdf3-9ad5ef4aada5",
   "metadata": {},
   "outputs": [
    {
     "data": {
      "text/plain": [
       "{'source': {'id': 'techcrunch', 'name': 'TechCrunch'},\n",
       " 'author': 'Manish Singh',\n",
       " 'title': 'Vitalik Buterin donates $1 billion worth of ‘meme coins’ to India Covid Relief Fund',\n",
       " 'description': 'Vitalik Buterin, the creator of Ethereum, on Wednesday donated Ethereum and “meme coins” worth $1.5 billion in one of the largest-ever individual philanthropy efforts. Buterin transferred 500 ETH and over 50 trillion SHIB (Shiba Inu), a meme coin, worth aroun…',\n",
       " 'url': 'http://techcrunch.com/2021/05/12/vitalik-buterin-donates-1-billion-worth-of-meme-coins-to-india-covid-relief-fund/',\n",
       " 'urlToImage': 'https://techcrunch.com/wp-content/uploads/2017/09/vitalik-buterin-147a2566.jpg?w=600',\n",
       " 'publishedAt': '2021-05-12T22:46:10Z',\n",
       " 'content': 'Vitalik Buterin, the creator of Ethereum, on Wednesday donated Ethereum and meme coins worth $1.5 billion in one of the largest-ever individual philanthropy efforts.\\r\\nButerin transferred 500 ETH and … [+1667 chars]'}"
      ]
     },
     "execution_count": 6,
     "metadata": {},
     "output_type": "execute_result"
    }
   ],
   "source": [
    "# Fetch the Ethereum news articles\n",
    "eth_news = news_api.get_everything(\n",
    "            q = 'ethereum OR Ethereum',\n",
    "            language='en',\n",
    "            sort_by= 'relevancy')\n",
    "eth_news[\"articles\"][0]"
   ]
  },
  {
   "cell_type": "code",
   "execution_count": 7,
   "id": "f503333b-8e7b-4fc1-a179-aa6888637b62",
   "metadata": {},
   "outputs": [
    {
     "data": {
      "text/plain": [
       "'Just weeks after Tesla started accepting Bitcoin as currency for cars, Elon Musk revealed in a tweet that it will \"suspend\" the effort. According to the release (Tesla does not appear to have a funct… [+768 chars]'"
      ]
     },
     "execution_count": 7,
     "metadata": {},
     "output_type": "execute_result"
    }
   ],
   "source": [
    "# Create the Bitcoin sentiment scores DataFrame\n",
    "btc_sentiment = []\n",
    "\n",
    "for article in btc_news[\"articles\"]:\n",
    "    try:\n",
    "        text = article[\"content\"]\n",
    "        date = article[\"publishedAt\"]\n",
    "        sentiment = analyzer.polarity_scores(text)\n",
    "        compound = sentiment[\"compound\"]\n",
    "        positive = sentiment[\"pos\"]\n",
    "        neutral = sentiment[\"neu\"]\n",
    "        negative = sentiment[\"neg\"]\n",
    "        \n",
    "        btc_sentiment.append({\n",
    "            \"text\": text,\n",
    "            \"date\": date,\n",
    "            \"compound\": compound,\n",
    "            \"positive\": positive,\n",
    "            \"negative\": negative,\n",
    "            \"neutral\": neutral\n",
    "        })\n",
    "        \n",
    "    except AttributeError:\n",
    "        pass\n",
    "\n",
    "# Create DataFrame\n",
    "btc_df = pd.DataFrame(btc_sentiment)\n",
    "\n",
    "# Reorder DataFrame columns\n",
    "cols = [\"date\", \"text\", \"compound\", \"positive\", \"negative\", \"neutral\"]\n",
    "btc_df = btc_df[cols]\n",
    "\n",
    "btc_df.iloc[0]['text']"
   ]
  },
  {
   "cell_type": "code",
   "execution_count": 8,
   "id": "c1b13028-cada-40d4-9314-18a6bf283594",
   "metadata": {},
   "outputs": [
    {
     "data": {
      "text/html": [
       "<div>\n",
       "<style scoped>\n",
       "    .dataframe tbody tr th:only-of-type {\n",
       "        vertical-align: middle;\n",
       "    }\n",
       "\n",
       "    .dataframe tbody tr th {\n",
       "        vertical-align: top;\n",
       "    }\n",
       "\n",
       "    .dataframe thead th {\n",
       "        text-align: right;\n",
       "    }\n",
       "</style>\n",
       "<table border=\"1\" class=\"dataframe\">\n",
       "  <thead>\n",
       "    <tr style=\"text-align: right;\">\n",
       "      <th></th>\n",
       "      <th>date</th>\n",
       "      <th>text</th>\n",
       "      <th>compound</th>\n",
       "      <th>positive</th>\n",
       "      <th>negative</th>\n",
       "      <th>neutral</th>\n",
       "    </tr>\n",
       "  </thead>\n",
       "  <tbody>\n",
       "    <tr>\n",
       "      <th>0</th>\n",
       "      <td>2021-05-12</td>\n",
       "      <td>Vitalik Buterin, the creator of Ethereum, on W...</td>\n",
       "      <td>0.2263</td>\n",
       "      <td>0.060</td>\n",
       "      <td>0.000</td>\n",
       "      <td>0.940</td>\n",
       "    </tr>\n",
       "    <tr>\n",
       "      <th>1</th>\n",
       "      <td>2021-05-15</td>\n",
       "      <td>Solana isn’t known yet outside of the crypto c...</td>\n",
       "      <td>0.5499</td>\n",
       "      <td>0.106</td>\n",
       "      <td>0.000</td>\n",
       "      <td>0.894</td>\n",
       "    </tr>\n",
       "    <tr>\n",
       "      <th>2</th>\n",
       "      <td>2021-05-19</td>\n",
       "      <td>Bitcoin, Ethereum and a host of Altcoins suffe...</td>\n",
       "      <td>-0.2023</td>\n",
       "      <td>0.066</td>\n",
       "      <td>0.087</td>\n",
       "      <td>0.847</td>\n",
       "    </tr>\n",
       "    <tr>\n",
       "      <th>3</th>\n",
       "      <td>2021-05-20</td>\n",
       "      <td></td>\n",
       "      <td>0.0000</td>\n",
       "      <td>0.000</td>\n",
       "      <td>0.000</td>\n",
       "      <td>0.000</td>\n",
       "    </tr>\n",
       "    <tr>\n",
       "      <th>4</th>\n",
       "      <td>2021-05-31</td>\n",
       "      <td>A representation of virtual currency Ethereum ...</td>\n",
       "      <td>0.0000</td>\n",
       "      <td>0.000</td>\n",
       "      <td>0.000</td>\n",
       "      <td>1.000</td>\n",
       "    </tr>\n",
       "  </tbody>\n",
       "</table>\n",
       "</div>"
      ],
      "text/plain": [
       "         date                                               text  compound  \\\n",
       "0  2021-05-12  Vitalik Buterin, the creator of Ethereum, on W...    0.2263   \n",
       "1  2021-05-15  Solana isn’t known yet outside of the crypto c...    0.5499   \n",
       "2  2021-05-19  Bitcoin, Ethereum and a host of Altcoins suffe...   -0.2023   \n",
       "3  2021-05-20                                                       0.0000   \n",
       "4  2021-05-31  A representation of virtual currency Ethereum ...    0.0000   \n",
       "\n",
       "   positive  negative  neutral  \n",
       "0     0.060     0.000    0.940  \n",
       "1     0.106     0.000    0.894  \n",
       "2     0.066     0.087    0.847  \n",
       "3     0.000     0.000    0.000  \n",
       "4     0.000     0.000    1.000  "
      ]
     },
     "execution_count": 8,
     "metadata": {},
     "output_type": "execute_result"
    }
   ],
   "source": [
    "# Create the Ethereum sentiment scores DataFrame\n",
    "eth_sentiment = []\n",
    "\n",
    "for article in eth_news[\"articles\"]:\n",
    "    try:\n",
    "        text = article[\"content\"]\n",
    "        date = article[\"publishedAt\"][:10]\n",
    "        sentiment = analyzer.polarity_scores(text)\n",
    "        compound = sentiment[\"compound\"]\n",
    "        positive = sentiment[\"pos\"]\n",
    "        neutral = sentiment[\"neu\"]\n",
    "        negative = sentiment[\"neg\"]\n",
    "        \n",
    "        eth_sentiment.append({\n",
    "            \"text\": text,\n",
    "            \"date\": date,\n",
    "            \"compound\": compound,\n",
    "            \"positive\": positive,\n",
    "            \"negative\": negative,\n",
    "            \"neutral\": neutral\n",
    "        })\n",
    "        \n",
    "    except AttributeError:\n",
    "        pass\n",
    "\n",
    "# Create DataFrame\n",
    "eth_df = pd.DataFrame(eth_sentiment)\n",
    "\n",
    "# Reorder DataFrame columns\n",
    "cols = [\"date\", \"text\", \"compound\", \"positive\", \"negative\", \"neutral\"]\n",
    "eth_df = eth_df[cols]\n",
    "\n",
    "eth_df.head()"
   ]
  },
  {
   "cell_type": "code",
   "execution_count": 9,
   "id": "e8ddf43b-7dfa-47fd-9a14-52ed010457d4",
   "metadata": {},
   "outputs": [
    {
     "data": {
      "text/html": [
       "<div>\n",
       "<style scoped>\n",
       "    .dataframe tbody tr th:only-of-type {\n",
       "        vertical-align: middle;\n",
       "    }\n",
       "\n",
       "    .dataframe tbody tr th {\n",
       "        vertical-align: top;\n",
       "    }\n",
       "\n",
       "    .dataframe thead th {\n",
       "        text-align: right;\n",
       "    }\n",
       "</style>\n",
       "<table border=\"1\" class=\"dataframe\">\n",
       "  <thead>\n",
       "    <tr style=\"text-align: right;\">\n",
       "      <th></th>\n",
       "      <th>compound</th>\n",
       "      <th>positive</th>\n",
       "      <th>negative</th>\n",
       "      <th>neutral</th>\n",
       "    </tr>\n",
       "  </thead>\n",
       "  <tbody>\n",
       "    <tr>\n",
       "      <th>count</th>\n",
       "      <td>20.000000</td>\n",
       "      <td>20.000000</td>\n",
       "      <td>20.000000</td>\n",
       "      <td>20.000000</td>\n",
       "    </tr>\n",
       "    <tr>\n",
       "      <th>mean</th>\n",
       "      <td>0.236245</td>\n",
       "      <td>0.086900</td>\n",
       "      <td>0.035500</td>\n",
       "      <td>0.877650</td>\n",
       "    </tr>\n",
       "    <tr>\n",
       "      <th>std</th>\n",
       "      <td>0.454529</td>\n",
       "      <td>0.077446</td>\n",
       "      <td>0.051382</td>\n",
       "      <td>0.079152</td>\n",
       "    </tr>\n",
       "    <tr>\n",
       "      <th>min</th>\n",
       "      <td>-0.762700</td>\n",
       "      <td>0.000000</td>\n",
       "      <td>0.000000</td>\n",
       "      <td>0.718000</td>\n",
       "    </tr>\n",
       "    <tr>\n",
       "      <th>25%</th>\n",
       "      <td>0.000000</td>\n",
       "      <td>0.032250</td>\n",
       "      <td>0.000000</td>\n",
       "      <td>0.833500</td>\n",
       "    </tr>\n",
       "    <tr>\n",
       "      <th>50%</th>\n",
       "      <td>0.360900</td>\n",
       "      <td>0.071000</td>\n",
       "      <td>0.000000</td>\n",
       "      <td>0.893000</td>\n",
       "    </tr>\n",
       "    <tr>\n",
       "      <th>75%</th>\n",
       "      <td>0.560725</td>\n",
       "      <td>0.139000</td>\n",
       "      <td>0.068000</td>\n",
       "      <td>0.929250</td>\n",
       "    </tr>\n",
       "    <tr>\n",
       "      <th>max</th>\n",
       "      <td>0.840200</td>\n",
       "      <td>0.282000</td>\n",
       "      <td>0.180000</td>\n",
       "      <td>1.000000</td>\n",
       "    </tr>\n",
       "  </tbody>\n",
       "</table>\n",
       "</div>"
      ],
      "text/plain": [
       "        compound   positive   negative    neutral\n",
       "count  20.000000  20.000000  20.000000  20.000000\n",
       "mean    0.236245   0.086900   0.035500   0.877650\n",
       "std     0.454529   0.077446   0.051382   0.079152\n",
       "min    -0.762700   0.000000   0.000000   0.718000\n",
       "25%     0.000000   0.032250   0.000000   0.833500\n",
       "50%     0.360900   0.071000   0.000000   0.893000\n",
       "75%     0.560725   0.139000   0.068000   0.929250\n",
       "max     0.840200   0.282000   0.180000   1.000000"
      ]
     },
     "execution_count": 9,
     "metadata": {},
     "output_type": "execute_result"
    }
   ],
   "source": [
    "# Describe the Bitcoin Sentiment\n",
    "btc_df.describe()"
   ]
  },
  {
   "cell_type": "code",
   "execution_count": 10,
   "id": "f4072654-2c3f-4709-adff-0f79c3190dad",
   "metadata": {},
   "outputs": [
    {
     "data": {
      "text/html": [
       "<div>\n",
       "<style scoped>\n",
       "    .dataframe tbody tr th:only-of-type {\n",
       "        vertical-align: middle;\n",
       "    }\n",
       "\n",
       "    .dataframe tbody tr th {\n",
       "        vertical-align: top;\n",
       "    }\n",
       "\n",
       "    .dataframe thead th {\n",
       "        text-align: right;\n",
       "    }\n",
       "</style>\n",
       "<table border=\"1\" class=\"dataframe\">\n",
       "  <thead>\n",
       "    <tr style=\"text-align: right;\">\n",
       "      <th></th>\n",
       "      <th>compound</th>\n",
       "      <th>positive</th>\n",
       "      <th>negative</th>\n",
       "      <th>neutral</th>\n",
       "    </tr>\n",
       "  </thead>\n",
       "  <tbody>\n",
       "    <tr>\n",
       "      <th>count</th>\n",
       "      <td>20.000000</td>\n",
       "      <td>20.00000</td>\n",
       "      <td>20.00000</td>\n",
       "      <td>20.000000</td>\n",
       "    </tr>\n",
       "    <tr>\n",
       "      <th>mean</th>\n",
       "      <td>-0.047125</td>\n",
       "      <td>0.04160</td>\n",
       "      <td>0.04720</td>\n",
       "      <td>0.861200</td>\n",
       "    </tr>\n",
       "    <tr>\n",
       "      <th>std</th>\n",
       "      <td>0.376912</td>\n",
       "      <td>0.05080</td>\n",
       "      <td>0.07812</td>\n",
       "      <td>0.218638</td>\n",
       "    </tr>\n",
       "    <tr>\n",
       "      <th>min</th>\n",
       "      <td>-0.868900</td>\n",
       "      <td>0.00000</td>\n",
       "      <td>0.00000</td>\n",
       "      <td>0.000000</td>\n",
       "    </tr>\n",
       "    <tr>\n",
       "      <th>25%</th>\n",
       "      <td>-0.345300</td>\n",
       "      <td>0.00000</td>\n",
       "      <td>0.00000</td>\n",
       "      <td>0.838250</td>\n",
       "    </tr>\n",
       "    <tr>\n",
       "      <th>50%</th>\n",
       "      <td>0.000000</td>\n",
       "      <td>0.02550</td>\n",
       "      <td>0.00000</td>\n",
       "      <td>0.926000</td>\n",
       "    </tr>\n",
       "    <tr>\n",
       "      <th>75%</th>\n",
       "      <td>0.208300</td>\n",
       "      <td>0.06725</td>\n",
       "      <td>0.08175</td>\n",
       "      <td>0.961750</td>\n",
       "    </tr>\n",
       "    <tr>\n",
       "      <th>max</th>\n",
       "      <td>0.670500</td>\n",
       "      <td>0.18800</td>\n",
       "      <td>0.28600</td>\n",
       "      <td>1.000000</td>\n",
       "    </tr>\n",
       "  </tbody>\n",
       "</table>\n",
       "</div>"
      ],
      "text/plain": [
       "        compound  positive  negative    neutral\n",
       "count  20.000000  20.00000  20.00000  20.000000\n",
       "mean   -0.047125   0.04160   0.04720   0.861200\n",
       "std     0.376912   0.05080   0.07812   0.218638\n",
       "min    -0.868900   0.00000   0.00000   0.000000\n",
       "25%    -0.345300   0.00000   0.00000   0.838250\n",
       "50%     0.000000   0.02550   0.00000   0.926000\n",
       "75%     0.208300   0.06725   0.08175   0.961750\n",
       "max     0.670500   0.18800   0.28600   1.000000"
      ]
     },
     "execution_count": 10,
     "metadata": {},
     "output_type": "execute_result"
    }
   ],
   "source": [
    "# Describe the Ethereum Sentiment\n",
    "eth_df.describe()"
   ]
  },
  {
   "cell_type": "markdown",
   "id": "ad5212f4-0149-419d-be2f-7693c8b2158b",
   "metadata": {},
   "source": [
    "### Questions:\n",
    "\n",
    "Q: Which coin had the highest mean positive score?\n",
    "\n",
    "A: Bitcoin\n",
    "\n",
    "Q: Which coin had the highest compound score?\n",
    "\n",
    "A: Bitcoin\n",
    "\n",
    "Q. Which coin had the highest positive score?\n",
    "\n",
    "A: Bitcoin"
   ]
  },
  {
   "cell_type": "markdown",
   "id": "f1148557-22a1-4703-8522-39e1d7615246",
   "metadata": {},
   "source": [
    "---"
   ]
  },
  {
   "cell_type": "markdown",
   "id": "59b59176-cb00-4353-9122-d9e4f83105b6",
   "metadata": {},
   "source": [
    "## 2. Natural Language Processing\n",
    "---\n",
    "###   Tokenizer\n",
    "\n",
    "In this section, you will use NLTK and Python to tokenize the text for each coin. Be sure to:\n",
    "1. Lowercase each word.\n",
    "2. Remove Punctuation.\n",
    "3. Remove Stopwords."
   ]
  },
  {
   "cell_type": "code",
   "execution_count": 11,
   "id": "b2a46f15-c9ca-4088-877e-e8b5dd477686",
   "metadata": {},
   "outputs": [
    {
     "name": "stderr",
     "output_type": "stream",
     "text": [
      "[nltk_data] Downloading package reuters to\n",
      "[nltk_data]     C:\\Users\\rhnil\\AppData\\Roaming\\nltk_data...\n",
      "[nltk_data]   Package reuters is already up-to-date!\n",
      "[nltk_data] Downloading package stopwords to\n",
      "[nltk_data]     C:\\Users\\rhnil\\AppData\\Roaming\\nltk_data...\n",
      "[nltk_data]   Package stopwords is already up-to-date!\n",
      "[nltk_data] Downloading package punkt to\n",
      "[nltk_data]     C:\\Users\\rhnil\\AppData\\Roaming\\nltk_data...\n",
      "[nltk_data]   Package punkt is already up-to-date!\n",
      "[nltk_data] Downloading package wordnet to\n",
      "[nltk_data]     C:\\Users\\rhnil\\AppData\\Roaming\\nltk_data...\n",
      "[nltk_data]   Package wordnet is already up-to-date!\n"
     ]
    },
    {
     "data": {
      "text/plain": [
       "True"
      ]
     },
     "execution_count": 11,
     "metadata": {},
     "output_type": "execute_result"
    }
   ],
   "source": [
    "from nltk.tokenize import word_tokenize, sent_tokenize\n",
    "from nltk.corpus import stopwords\n",
    "from nltk.stem import WordNetLemmatizer, PorterStemmer\n",
    "from string import punctuation\n",
    "import re\n",
    "\n",
    "# Code to download corpora\n",
    "import nltk\n",
    "nltk.download('reuters')\n",
    "nltk.download('stopwords')\n",
    "nltk.download('punkt')\n",
    "nltk.download('wordnet')"
   ]
  },
  {
   "cell_type": "code",
   "execution_count": 12,
   "id": "cc153df3-1361-4a31-9e8e-145c5d188ff0",
   "metadata": {},
   "outputs": [],
   "source": [
    "# Instantiate the lemmatizer\n",
    "lemmatizer = WordNetLemmatizer()\n",
    "\n",
    "# Create a list of stopwords\n",
    "sw = set(stopwords.words('english'))\n",
    "\n",
    "\n",
    "# Expand the default stopwords list if necessary\n",
    "sw_add = {'?'}"
   ]
  },
  {
   "cell_type": "code",
   "execution_count": 13,
   "id": "c8b10954-07fc-4eb6-9e81-125259905834",
   "metadata": {},
   "outputs": [],
   "source": [
    "# Complete the tokenizer function\n",
    "def tokenizer(text):\n",
    "    \"\"\"Tokenizes text.\"\"\"\n",
    "    \n",
    "    # Remove the punctuation from text\n",
    "    regex = re.compile(\"[^a-zA-Z ]\")\n",
    "    re_clean = regex.sub('', text)\n",
    "\n",
    "   \n",
    "    # Create a tokenized list of the words\n",
    "    words = word_tokenize(re_clean)\n",
    "    \n",
    "    # Lemmatize words into root words\n",
    "    lem = [lemmatizer.lemmatize(word) for word in words]\n",
    "\n",
    "   \n",
    "    # Convert the words to lowercase\n",
    "    output = [word.lower() for word in lem if word.lower() not in sw.union(sw_add)]\n",
    "    \n",
    "    # Remove the stop words\n",
    "    \n",
    "    \n",
    "    return output"
   ]
  },
  {
   "cell_type": "code",
   "execution_count": 19,
   "id": "06a6d250-ea78-4658-b73c-c85450b3c1d9",
   "metadata": {},
   "outputs": [
    {
     "name": "stdout",
     "output_type": "stream",
     "text": [
      "[['week', 'tesla', 'started', 'accepting', 'bitcoin', 'currency', 'car', 'elon', 'musk', 'revealed', 'tweet', 'suspend', 'effort', 'according', 'release', 'tesla', 'doe', 'appear', 'funct', 'char']]\n",
      "[['el', 'salvadors', 'president', 'nayib', 'bukele', 'ha', 'made', 'good', 'promise', 'adopt', 'bitcoin', 'legal', 'tender', 'officials', 'central', 'american', 'country', 'congress', 'voted', 'accept', 'cryptocurrency', 'majori', 'char']]\n",
      "[['image', 'tesla', 'tesla', 'ha', 'stopped', 'accepting', 'bitcoin', 'payment', 'car', 'concern', 'contribute', 'greater', 'consumption', 'fossil', 'fuel', 'according', 'statement', 'ceo', 'elon', 'musk', 'tw', 'char']]\n",
      "[['el', 'salvador', 'ha', 'become', 'first', 'country', 'world', 'recognize', 'cryptocurrency', 'bitcoin', 'legal', 'currency', 'according', 'president', 'nayib', 'bukele', 'tweet', 'wednesday', 'citizens', 'able', 'char']]\n",
      "[['illustration', 'alex', 'castro', 'verge', 'cryptocurrency', 'exchange', 'coinbase', 'experiencing', 'partial', 'outage', 'morning', 'entire', 'site', 'application', 'additionally', 'coinbase', 'bin', 'char']]\n",
      "[['last', 'week', 'whenelon', 'musk', 'tweeted', 'spoken', 'team', 'doge', 'developer', 'make', 'coin', 'efficient', 'impact', 'wa', 'predictable', 'sent', 'dogecoin', 'moon', 'wa', 'char']]\n",
      "[['tesla', 'ceo', 'elon', 'musk', 'ha', 'changed', 'stance', 'cryptocurrencyback', 'march', 'musk', 'announced', 'tesla', 'wa', 'accepting', 'bitcoin', 'electric', 'car', 'earlier', 'year', 'ev', 'company', 'even', 'bought', 'billi', 'char']]\n",
      "[['love', 'affair', 'elon', 'musk', 'bitcoin', 'become', 'complicatedits', 'rough', 'couple', 'day', 'crypto', 'world', 'price', 'major', 'crypto', 'asset', 'plummeting', 'bitcoin', 'partic', 'char']]\n",
      "[['bitcoin', 'ethereum', 'host', 'altcoins', 'suffered', 'massive', 'drop', 'tuesday', 'night', 'wednesday', 'morning', 'erasing', 'month', 'gain', 'hundred', 'billion', 'market', 'cap', 'overall', 'crypto', 'market', 'shrunk', 'char']]\n",
      "[['image', 'captionthe', 'move', 'mean', 'bitcoin', 'accepted', 'everywhere', 'good', 'service', 'alongside', 'us', 'dollarel', 'salvador', 'ha', 'become', 'first', 'country', 'world', 'officially', 'classify', 'bitcoin', 'char']]\n",
      "[['isnt', 'greatest', 'time', 'cryptocurrency', 'trader', 'coinbase', 'suffered', 'hourslong', 'outage', 'morning', 'may', 'th', 'hindered', 'transaction', 'exchange', 'company', 'pinpointed', 'char']]\n",
      "[['several', 'crypto', 'fan', 'descended', 'miami', 'florida', 'last', 'weekend', 'largest', 'bitcoin', 'conference', 'history', 'saying', 'theyve', 'tested', 'positive', 'covid', 'larry', 'cermak', 'research', 'director', 'char']]\n",
      "[['spite', 'environmental', 'regulatory', 'ill', 'generally', 'come', 'crypto', 'currency', 'paypals', 'bitcoin', 'ambition', 'keep', 'ramping', 'wednesday', 'jose', 'fernandez', 'da', 'pontethe', 'company', 'vp', 'char']]\n",
      "[['hello', 'friend', 'welcome', 'back', 'week', 'reviewlast', 'week', 'wrote', 'tech', 'taking', 'disney', 'week', 'im', 'talking', 'search', 'new', 'crypto', 'messiahif', 'youre', 'reading', 'tec', 'char']]\n",
      "[['come', 'ransomware', 'dont', 'always', 'get', 'pay', 'forcolonial', 'pipeline', 'operates', 'mile', 'fuel', 'pipeline', 'united', 'states', 'found', 'hard', 'way', 'char']]\n",
      "[['maryann', 'russonbusiness', 'reporter', 'bbc', 'newsimage', 'copyrightgetty', 'imagesformer', 'us', 'president', 'donald', 'trump', 'ha', 'told', 'fox', 'business', 'see', 'bitcoin', 'scam', 'affecting', 'value', 'us', 'dolla', 'char']]\n",
      "[['ban', 'affect', 'licensed', 'unlicensed', 'miner', 'alikephoto', 'michele', 'doying', 'vergeiran', 'temporarily', 'banning', 'cryptocurrency', 'mining', 'country', 'major', 'city', 'experienced', 'repeat', 'char']]\n",
      "[['hello', 'friend', 'welcome', 'back', 'week', 'reviewlast', 'week', 'wrote', 'facebooks', 'neverending', 'trump', 'problem', 'week', 'im', 'looking', 'elon', 'musks', 'wild', 'week', 'whipping', 'crypto', 'marketsif', 'char']]\n",
      "[['australian', 'computer', 'scientist', 'alleges', 'created', 'bitcoin', 'ha', 'launched', 'london', 'high', 'court', 'lawsuit', 'software', 'developer', 'effort', 'secure', 'bitcoin', 'worth', 'around', 'billion', 'pound', 'char']]\n",
      "[['representation', 'virtual', 'currency', 'bitcoin', 'us', 'one', 'dollar', 'banknote', 'seen', 'front', 'stock', 'graph', 'illustration', 'taken', 'january', 'reutersdado', 'ruvicfile', 'phototesla', 'inc', 'tsla', 'char']]\n"
     ]
    },
    {
     "ename": "ValueError",
     "evalue": "Length of values (1) does not match length of index (20)",
     "output_type": "error",
     "traceback": [
      "\u001b[1;31m---------------------------------------------------------------------------\u001b[0m",
      "\u001b[1;31mValueError\u001b[0m                                Traceback (most recent call last)",
      "\u001b[1;32m<ipython-input-19-119453c2e339>\u001b[0m in \u001b[0;36m<module>\u001b[1;34m\u001b[0m\n\u001b[0;32m      6\u001b[0m     \u001b[0mprint\u001b[0m\u001b[1;33m(\u001b[0m\u001b[0mtoken_array\u001b[0m\u001b[1;33m)\u001b[0m\u001b[1;33m\u001b[0m\u001b[1;33m\u001b[0m\u001b[0m\n\u001b[0;32m      7\u001b[0m \u001b[1;33m\u001b[0m\u001b[0m\n\u001b[1;32m----> 8\u001b[1;33m \u001b[0mbtc_df\u001b[0m\u001b[1;33m.\u001b[0m\u001b[0minsert\u001b[0m\u001b[1;33m(\u001b[0m\u001b[0mlen\u001b[0m\u001b[1;33m(\u001b[0m\u001b[0mbtc_df\u001b[0m\u001b[1;33m)\u001b[0m\u001b[1;33m+\u001b[0m\u001b[1;36m1\u001b[0m\u001b[1;33m,\u001b[0m \u001b[1;34m\"Tokens\"\u001b[0m\u001b[1;33m,\u001b[0m \u001b[0mtoken_array\u001b[0m\u001b[1;33m)\u001b[0m\u001b[1;33m\u001b[0m\u001b[1;33m\u001b[0m\u001b[0m\n\u001b[0m\u001b[0;32m      9\u001b[0m \u001b[1;33m\u001b[0m\u001b[0m\n\u001b[0;32m     10\u001b[0m \u001b[0mbtc_df\u001b[0m\u001b[1;33m.\u001b[0m\u001b[0mhead\u001b[0m\u001b[1;33m(\u001b[0m\u001b[1;33m)\u001b[0m\u001b[1;33m\u001b[0m\u001b[1;33m\u001b[0m\u001b[0m\n",
      "\u001b[1;32m~\\anaconda3\\lib\\site-packages\\pandas\\core\\frame.py\u001b[0m in \u001b[0;36minsert\u001b[1;34m(self, loc, column, value, allow_duplicates)\u001b[0m\n\u001b[0;32m   3760\u001b[0m             )\n\u001b[0;32m   3761\u001b[0m         \u001b[0mself\u001b[0m\u001b[1;33m.\u001b[0m\u001b[0m_ensure_valid_index\u001b[0m\u001b[1;33m(\u001b[0m\u001b[0mvalue\u001b[0m\u001b[1;33m)\u001b[0m\u001b[1;33m\u001b[0m\u001b[1;33m\u001b[0m\u001b[0m\n\u001b[1;32m-> 3762\u001b[1;33m         \u001b[0mvalue\u001b[0m \u001b[1;33m=\u001b[0m \u001b[0mself\u001b[0m\u001b[1;33m.\u001b[0m\u001b[0m_sanitize_column\u001b[0m\u001b[1;33m(\u001b[0m\u001b[0mcolumn\u001b[0m\u001b[1;33m,\u001b[0m \u001b[0mvalue\u001b[0m\u001b[1;33m,\u001b[0m \u001b[0mbroadcast\u001b[0m\u001b[1;33m=\u001b[0m\u001b[1;32mFalse\u001b[0m\u001b[1;33m)\u001b[0m\u001b[1;33m\u001b[0m\u001b[1;33m\u001b[0m\u001b[0m\n\u001b[0m\u001b[0;32m   3763\u001b[0m         \u001b[0mself\u001b[0m\u001b[1;33m.\u001b[0m\u001b[0m_mgr\u001b[0m\u001b[1;33m.\u001b[0m\u001b[0minsert\u001b[0m\u001b[1;33m(\u001b[0m\u001b[0mloc\u001b[0m\u001b[1;33m,\u001b[0m \u001b[0mcolumn\u001b[0m\u001b[1;33m,\u001b[0m \u001b[0mvalue\u001b[0m\u001b[1;33m,\u001b[0m \u001b[0mallow_duplicates\u001b[0m\u001b[1;33m=\u001b[0m\u001b[0mallow_duplicates\u001b[0m\u001b[1;33m)\u001b[0m\u001b[1;33m\u001b[0m\u001b[1;33m\u001b[0m\u001b[0m\n\u001b[0;32m   3764\u001b[0m \u001b[1;33m\u001b[0m\u001b[0m\n",
      "\u001b[1;32m~\\anaconda3\\lib\\site-packages\\pandas\\core\\frame.py\u001b[0m in \u001b[0;36m_sanitize_column\u001b[1;34m(self, key, value, broadcast)\u001b[0m\n\u001b[0;32m   3897\u001b[0m \u001b[1;33m\u001b[0m\u001b[0m\n\u001b[0;32m   3898\u001b[0m             \u001b[1;31m# turn me into an ndarray\u001b[0m\u001b[1;33m\u001b[0m\u001b[1;33m\u001b[0m\u001b[1;33m\u001b[0m\u001b[0m\n\u001b[1;32m-> 3899\u001b[1;33m             \u001b[0mvalue\u001b[0m \u001b[1;33m=\u001b[0m \u001b[0msanitize_index\u001b[0m\u001b[1;33m(\u001b[0m\u001b[0mvalue\u001b[0m\u001b[1;33m,\u001b[0m \u001b[0mself\u001b[0m\u001b[1;33m.\u001b[0m\u001b[0mindex\u001b[0m\u001b[1;33m)\u001b[0m\u001b[1;33m\u001b[0m\u001b[1;33m\u001b[0m\u001b[0m\n\u001b[0m\u001b[0;32m   3900\u001b[0m             \u001b[1;32mif\u001b[0m \u001b[1;32mnot\u001b[0m \u001b[0misinstance\u001b[0m\u001b[1;33m(\u001b[0m\u001b[0mvalue\u001b[0m\u001b[1;33m,\u001b[0m \u001b[1;33m(\u001b[0m\u001b[0mnp\u001b[0m\u001b[1;33m.\u001b[0m\u001b[0mndarray\u001b[0m\u001b[1;33m,\u001b[0m \u001b[0mIndex\u001b[0m\u001b[1;33m)\u001b[0m\u001b[1;33m)\u001b[0m\u001b[1;33m:\u001b[0m\u001b[1;33m\u001b[0m\u001b[1;33m\u001b[0m\u001b[0m\n\u001b[0;32m   3901\u001b[0m                 \u001b[1;32mif\u001b[0m \u001b[0misinstance\u001b[0m\u001b[1;33m(\u001b[0m\u001b[0mvalue\u001b[0m\u001b[1;33m,\u001b[0m \u001b[0mlist\u001b[0m\u001b[1;33m)\u001b[0m \u001b[1;32mand\u001b[0m \u001b[0mlen\u001b[0m\u001b[1;33m(\u001b[0m\u001b[0mvalue\u001b[0m\u001b[1;33m)\u001b[0m \u001b[1;33m>\u001b[0m \u001b[1;36m0\u001b[0m\u001b[1;33m:\u001b[0m\u001b[1;33m\u001b[0m\u001b[1;33m\u001b[0m\u001b[0m\n",
      "\u001b[1;32m~\\anaconda3\\lib\\site-packages\\pandas\\core\\internals\\construction.py\u001b[0m in \u001b[0;36msanitize_index\u001b[1;34m(data, index)\u001b[0m\n\u001b[0;32m    749\u001b[0m     \"\"\"\n\u001b[0;32m    750\u001b[0m     \u001b[1;32mif\u001b[0m \u001b[0mlen\u001b[0m\u001b[1;33m(\u001b[0m\u001b[0mdata\u001b[0m\u001b[1;33m)\u001b[0m \u001b[1;33m!=\u001b[0m \u001b[0mlen\u001b[0m\u001b[1;33m(\u001b[0m\u001b[0mindex\u001b[0m\u001b[1;33m)\u001b[0m\u001b[1;33m:\u001b[0m\u001b[1;33m\u001b[0m\u001b[1;33m\u001b[0m\u001b[0m\n\u001b[1;32m--> 751\u001b[1;33m         raise ValueError(\n\u001b[0m\u001b[0;32m    752\u001b[0m             \u001b[1;34m\"Length of values \"\u001b[0m\u001b[1;33m\u001b[0m\u001b[1;33m\u001b[0m\u001b[0m\n\u001b[0;32m    753\u001b[0m             \u001b[1;34mf\"({len(data)}) \"\u001b[0m\u001b[1;33m\u001b[0m\u001b[1;33m\u001b[0m\u001b[0m\n",
      "\u001b[1;31mValueError\u001b[0m: Length of values (1) does not match length of index (20)"
     ]
    }
   ],
   "source": [
    "token_array = []\n",
    "\n",
    "# Simulation\n",
    "for x in range(0, len(btc_df)):\n",
    "    token_array = [tokenizer(btc_df.iloc[x]['text'])]\n",
    "    print(token_array)\n",
    "\n",
    "btc_df.insert(len(btc_df)+1, \"Tokens\", token_array)\n",
    "\n",
    "btc_df.head()"
   ]
  },
  {
   "cell_type": "code",
   "execution_count": null,
   "id": "3eee67cf-158c-4e0a-8296-0ca31baca390",
   "metadata": {},
   "outputs": [],
   "source": [
    "for i in range(0, len(btc_df)):\n",
    "    btc_df.append(tokenizer(btc_df.iloc[i]['text']))\n",
    "\n",
    "btc_df.head()"
   ]
  },
  {
   "cell_type": "code",
   "execution_count": null,
   "id": "0d994afd-91a5-495e-921e-c3515422d259",
   "metadata": {},
   "outputs": [],
   "source": [
    "tokens_df = pd.DataFrame (tokens_list,columns=['tokens'])\n",
    "print (tokens_df)"
   ]
  },
  {
   "cell_type": "code",
   "execution_count": null,
   "id": "236a593b-f77f-4520-a43e-be2cf265de8d",
   "metadata": {},
   "outputs": [],
   "source": [
    "btc_df['tokens'] = btc_df.apply(lambda: tokenizer(btc_df.iloc[row],['text']), axis=1)"
   ]
  },
  {
   "cell_type": "code",
   "execution_count": null,
   "id": "a1b9ca75-9cc7-4a13-b871-bf3b1119e866",
   "metadata": {},
   "outputs": [],
   "source": [
    "# Create a new tokens column for Bitcoin\n",
    "# YOUR CODE HERE!"
   ]
  },
  {
   "cell_type": "code",
   "execution_count": null,
   "id": "8e7a8cee-3d1c-496d-9caf-2fd0818752e4",
   "metadata": {},
   "outputs": [],
   "source": [
    "# Create a new tokens column for Ethereum\n",
    "# YOUR CODE HERE!"
   ]
  },
  {
   "cell_type": "markdown",
   "id": "604b6ce9-0fb2-40d6-9707-cc390d849803",
   "metadata": {},
   "source": [
    "---"
   ]
  },
  {
   "cell_type": "markdown",
   "id": "439a16f2-a162-43db-9cd1-aab5623f64c3",
   "metadata": {},
   "source": [
    "### NGrams and Frequency Analysis\n",
    "\n",
    "In this section you will look at the ngrams and word frequency for each coin. \n",
    "\n",
    "1. Use NLTK to produce the n-grams for N = 2. \n",
    "2. List the top 10 words for each coin. "
   ]
  },
  {
   "cell_type": "code",
   "execution_count": null,
   "id": "98496350-4d17-404b-8e59-04c6a246f886",
   "metadata": {},
   "outputs": [],
   "source": [
    "from collections import Counter\n",
    "from nltk import ngrams"
   ]
  },
  {
   "cell_type": "code",
   "execution_count": null,
   "id": "421b0f01-1434-44c2-9bf2-0de6f7ce3aec",
   "metadata": {},
   "outputs": [],
   "source": [
    "# Generate the Bitcoin N-grams where N=2\n",
    "# YOUR CODE HERE!"
   ]
  },
  {
   "cell_type": "code",
   "execution_count": null,
   "id": "a98d0282-5e06-4dbf-b261-a9097239ab50",
   "metadata": {},
   "outputs": [],
   "source": [
    "# Generate the Ethereum N-grams where N=2\n",
    "# YOUR CODE HERE!"
   ]
  },
  {
   "cell_type": "code",
   "execution_count": null,
   "id": "43c5c5f2-4d0f-4dac-bdca-c5c9a918bfbc",
   "metadata": {},
   "outputs": [],
   "source": [
    "# Function token_count generates the top 10 words for a given coin\n",
    "def token_count(tokens, N=3):\n",
    "    \"\"\"Returns the top N tokens from the frequency count\"\"\"\n",
    "    return Counter(tokens).most_common(N)"
   ]
  },
  {
   "cell_type": "code",
   "execution_count": null,
   "id": "9498ebf2-293c-46c0-b247-403ef85a0e1a",
   "metadata": {},
   "outputs": [],
   "source": [
    "# Use token_count to get the top 10 words for Bitcoin\n",
    "# YOUR CODE HERE!"
   ]
  },
  {
   "cell_type": "code",
   "execution_count": null,
   "id": "b45f1c06-1b7a-4d97-8db3-393d03ce7e7b",
   "metadata": {},
   "outputs": [],
   "source": [
    "# Use token_count to get the top 10 words for Ethereum\n",
    "# YOUR CODE HERE!"
   ]
  },
  {
   "cell_type": "markdown",
   "id": "7fe0ca97-1136-4d49-b90c-7350678091cb",
   "metadata": {},
   "source": [
    "---"
   ]
  },
  {
   "cell_type": "markdown",
   "id": "6d320ffa-2b4b-4a62-868f-404567effd57",
   "metadata": {},
   "source": [
    "### Word Clouds\n",
    "\n",
    "In this section, you will generate word clouds for each coin to summarize the news for each coin"
   ]
  },
  {
   "cell_type": "code",
   "execution_count": null,
   "id": "7d5d33f5-4baa-4be1-856c-f90386449119",
   "metadata": {},
   "outputs": [],
   "source": [
    "from wordcloud import WordCloud\n",
    "import matplotlib.pyplot as plt\n",
    "plt.style.use('seaborn-whitegrid')\n",
    "import matplotlib as mpl\n",
    "mpl.rcParams['figure.figsize'] = [20.0, 10.0]"
   ]
  },
  {
   "cell_type": "code",
   "execution_count": null,
   "id": "e0010d9f-e2fd-4a04-8c5d-365d0a0a9054",
   "metadata": {},
   "outputs": [],
   "source": [
    "# Generate the Bitcoin word cloud\n",
    "# YOUR CODE HERE!"
   ]
  },
  {
   "cell_type": "code",
   "execution_count": null,
   "id": "d6940bdd-ca03-402c-b150-d7ded175c49e",
   "metadata": {},
   "outputs": [],
   "source": [
    "# Generate the Ethereum word cloud\n",
    "# YOUR CODE HERE!"
   ]
  },
  {
   "cell_type": "markdown",
   "id": "bacaae9a-2f1c-4dea-a567-30e3f3c5a251",
   "metadata": {},
   "source": [
    "---\n",
    "## 3. Named Entity Recognition\n",
    "\n",
    "In this section, you will build a named entity recognition model for both Bitcoin and Ethereum, then visualize the tags using SpaCy."
   ]
  },
  {
   "cell_type": "code",
   "execution_count": null,
   "id": "e255dd6d-5f22-4905-bc26-13a86f0b3858",
   "metadata": {},
   "outputs": [],
   "source": [
    "import spacy\n",
    "from spacy import displacy"
   ]
  },
  {
   "cell_type": "code",
   "execution_count": null,
   "id": "0b4c1f0d-7bb7-4b80-af5b-f9311f06ed84",
   "metadata": {},
   "outputs": [],
   "source": [
    "# Download the language model for SpaCy\n",
    "# !python -m spacy download en_core_web_sm"
   ]
  },
  {
   "cell_type": "code",
   "execution_count": null,
   "id": "86d917ee-74ea-45ab-9984-81775616a845",
   "metadata": {},
   "outputs": [],
   "source": [
    "# Load the spaCy model\n",
    "nlp = spacy.load('en_core_web_sm')"
   ]
  },
  {
   "cell_type": "markdown",
   "id": "c49c636d-c3a1-45ab-81ce-e3d9fd439e77",
   "metadata": {},
   "source": [
    "---\n",
    "### Bitcoin NER"
   ]
  },
  {
   "cell_type": "code",
   "execution_count": null,
   "id": "79f00adb-025e-4131-8f7a-21e6b9f81f9d",
   "metadata": {},
   "outputs": [],
   "source": [
    "# Concatenate all of the Bitcoin text together\n",
    "# YOUR CODE HERE!"
   ]
  },
  {
   "cell_type": "code",
   "execution_count": null,
   "id": "61f609a7-c178-404d-808d-416c4459465c",
   "metadata": {},
   "outputs": [],
   "source": [
    "# Run the NER processor on all of the text\n",
    "# YOUR CODE HERE!\n",
    "\n",
    "# Add a title to the document\n",
    "# YOUR CODE HERE!"
   ]
  },
  {
   "cell_type": "code",
   "execution_count": null,
   "id": "3e42c8e3-a63d-4ea3-a5de-62ae5fdecda6",
   "metadata": {},
   "outputs": [],
   "source": [
    "# Render the visualization\n",
    "# YOUR CODE HERE!"
   ]
  },
  {
   "cell_type": "code",
   "execution_count": null,
   "id": "2a13ad2a-379a-4e94-b44c-bc4b75aefef3",
   "metadata": {},
   "outputs": [],
   "source": [
    "# List all Entities\n",
    "# YOUR CODE HERE!"
   ]
  },
  {
   "cell_type": "markdown",
   "id": "8502217e-296d-4ac9-8551-056074db075d",
   "metadata": {},
   "source": [
    "---"
   ]
  },
  {
   "cell_type": "markdown",
   "id": "ed1cf265-a52b-4b18-9b26-ce70d62872b0",
   "metadata": {},
   "source": [
    "### Ethereum NER"
   ]
  },
  {
   "cell_type": "code",
   "execution_count": null,
   "id": "86b00eae-9bc7-4d54-ab4e-2e96600a4410",
   "metadata": {},
   "outputs": [],
   "source": [
    "# Concatenate all of the Ethereum text together\n",
    "# YOUR CODE HERE!"
   ]
  },
  {
   "cell_type": "code",
   "execution_count": null,
   "id": "bb203ea2-b8f8-4d2d-921c-1915c1594f88",
   "metadata": {},
   "outputs": [],
   "source": [
    "# Run the NER processor on all of the text\n",
    "# YOUR CODE HERE!\n",
    "\n",
    "# Add a title to the document\n",
    "# YOUR CODE HERE!"
   ]
  },
  {
   "cell_type": "code",
   "execution_count": null,
   "id": "12052767-8a87-4a91-9c38-0409e7055763",
   "metadata": {},
   "outputs": [],
   "source": [
    "# Render the visualization\n",
    "# YOUR CODE HERE!"
   ]
  },
  {
   "cell_type": "code",
   "execution_count": null,
   "id": "70fccd03-bcae-4520-9dba-d01a9d8a3f7d",
   "metadata": {},
   "outputs": [],
   "source": [
    "# List all Entities\n",
    "# YOUR CODE HERE!"
   ]
  },
  {
   "cell_type": "markdown",
   "id": "b916d3e5-3732-4c3b-a3bf-3904d6535ad3",
   "metadata": {},
   "source": [
    "---"
   ]
  }
 ],
 "metadata": {
  "kernelspec": {
   "display_name": "Python 3",
   "language": "python",
   "name": "python3"
  },
  "language_info": {
   "codemirror_mode": {
    "name": "ipython",
    "version": 3
   },
   "file_extension": ".py",
   "mimetype": "text/x-python",
   "name": "python",
   "nbconvert_exporter": "python",
   "pygments_lexer": "ipython3",
   "version": "3.8.5"
  }
 },
 "nbformat": 4,
 "nbformat_minor": 5
}
